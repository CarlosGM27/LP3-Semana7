{
 "cells": [
  {
   "cell_type": "markdown",
   "id": "f9310fa6",
   "metadata": {},
   "source": [
    "# Semana 07\n",
    "Carlos Julian Gómez Morales"
   ]
  },
  {
   "cell_type": "raw",
   "id": "60c87e2d",
   "metadata": {},
   "source": [
    "Temas:\n",
    "    1. Números\n",
    "    2. Variables\n",
    "    3. Manejo de Cadenas\n",
    "    4. Ingreso de Cadenas\n",
    "    5. Operadores"
   ]
  },
  {
   "cell_type": "raw",
   "id": "2d612e36",
   "metadata": {},
   "source": [
    "5. Operadores"
   ]
  },
  {
   "cell_type": "raw",
   "id": "6c2b7070",
   "metadata": {},
   "source": [
    "#5.1 Operadores aritmeticos\n",
    "#Se tiene: +, -, *, /, **, %, //"
   ]
  },
  {
   "cell_type": "code",
   "execution_count": 5,
   "id": "9e48dad8",
   "metadata": {},
   "outputs": [
    {
     "name": "stdout",
     "output_type": "stream",
     "text": [
      "13\n"
     ]
    }
   ],
   "source": [
    "numero1= 10\n",
    "numero2= 3\n",
    "suma = numero1 + numero2\n",
    "print(suma)"
   ]
  },
  {
   "cell_type": "code",
   "execution_count": 6,
   "id": "d37b9947",
   "metadata": {},
   "outputs": [
    {
     "name": "stdout",
     "output_type": "stream",
     "text": [
      "7\n"
     ]
    }
   ],
   "source": [
    "resta = numero1 - numero2\n",
    "print(resta)"
   ]
  },
  {
   "cell_type": "code",
   "execution_count": 7,
   "id": "24a64dc5",
   "metadata": {},
   "outputs": [
    {
     "name": "stdout",
     "output_type": "stream",
     "text": [
      "30\n"
     ]
    }
   ],
   "source": [
    "multiplicacion = numero1 * numero2\n",
    "print(multiplicacion)"
   ]
  },
  {
   "cell_type": "code",
   "execution_count": 8,
   "id": "ff29cbef",
   "metadata": {},
   "outputs": [
    {
     "name": "stdout",
     "output_type": "stream",
     "text": [
      "3.3333333333333335\n"
     ]
    }
   ],
   "source": [
    "division = numero1 / numero2\n",
    "print(division)"
   ]
  },
  {
   "cell_type": "code",
   "execution_count": 9,
   "id": "713c7af1",
   "metadata": {},
   "outputs": [
    {
     "name": "stdout",
     "output_type": "stream",
     "text": [
      "1\n"
     ]
    }
   ],
   "source": [
    "residuo = numero1 % numero2\n",
    "print(residuo)"
   ]
  },
  {
   "cell_type": "code",
   "execution_count": 10,
   "id": "736f7e83",
   "metadata": {},
   "outputs": [
    {
     "name": "stdout",
     "output_type": "stream",
     "text": [
      "3\n"
     ]
    }
   ],
   "source": [
    "cociente = numero1 // numero2\n",
    "print(cociente)"
   ]
  },
  {
   "cell_type": "code",
   "execution_count": 12,
   "id": "c37fdad7",
   "metadata": {},
   "outputs": [
    {
     "name": "stdout",
     "output_type": "stream",
     "text": [
      "1000\n"
     ]
    }
   ],
   "source": [
    "potencia = numero1 ** numero2\n",
    "print(potencia)"
   ]
  },
  {
   "cell_type": "code",
   "execution_count": 13,
   "id": "c881882e",
   "metadata": {},
   "outputs": [
    {
     "name": "stdout",
     "output_type": "stream",
     "text": [
      "8\n"
     ]
    }
   ],
   "source": [
    "#5.2 Operadores de asignacion\n",
    "#Se tiene: =, +=, -=, *=, /=, **=\n",
    "numero = 5\n",
    "numero = numero + 3\n",
    "print(numero)"
   ]
  },
  {
   "cell_type": "code",
   "execution_count": 14,
   "id": "692f9da4",
   "metadata": {},
   "outputs": [
    {
     "name": "stdout",
     "output_type": "stream",
     "text": [
      "8\n"
     ]
    }
   ],
   "source": [
    "#La operacion anterior tambien se puede expresar de la siguiente manera:\n",
    "numero = 5\n",
    "numero += 3\n",
    "print(numero)"
   ]
  },
  {
   "cell_type": "code",
   "execution_count": 16,
   "id": "54bfd2ad",
   "metadata": {},
   "outputs": [
    {
     "name": "stdout",
     "output_type": "stream",
     "text": [
      "125\n"
     ]
    }
   ],
   "source": [
    "#Lo mismo se puede hacer con todos los casos, incluso la potencia\n",
    "#Veamos otro ejemplo\n",
    "numero = 5\n",
    "numero = numero **3\n",
    "print(numero)"
   ]
  },
  {
   "cell_type": "code",
   "execution_count": 19,
   "id": "7ab2d19b",
   "metadata": {},
   "outputs": [
    {
     "name": "stdout",
     "output_type": "stream",
     "text": [
      "125\n"
     ]
    }
   ],
   "source": [
    "#La operacion anterior tambien se puede expresar de la siguiente manera:\n",
    "numero=5\n",
    "numero **=3\n",
    "print(numero)"
   ]
  },
  {
   "cell_type": "code",
   "execution_count": 20,
   "id": "6171bac1",
   "metadata": {},
   "outputs": [],
   "source": [
    "#5.3 Operadores de comparacion\n",
    "#Se tiene: ==, !=, <, >, <=, >=,"
   ]
  },
  {
   "cell_type": "code",
   "execution_count": 21,
   "id": "3784f5d1",
   "metadata": {},
   "outputs": [
    {
     "data": {
      "text/plain": [
       "False"
      ]
     },
     "execution_count": 21,
     "metadata": {},
     "output_type": "execute_result"
    }
   ],
   "source": [
    "#Ejemplo de igualdad ==\n",
    "numero1 = 5\n",
    "numero2 = 2\n",
    "numero1 == numero2"
   ]
  },
  {
   "cell_type": "code",
   "execution_count": 22,
   "id": "841f7773",
   "metadata": {},
   "outputs": [
    {
     "data": {
      "text/plain": [
       "True"
      ]
     },
     "execution_count": 22,
     "metadata": {},
     "output_type": "execute_result"
    }
   ],
   "source": [
    "#Con las cadenas funciona igual\n",
    "nombre1 = \"Juan\"\n",
    "nombre2 = \"Juan\"\n",
    "nombre1 == nombre2"
   ]
  },
  {
   "cell_type": "code",
   "execution_count": 23,
   "id": "53b40e10",
   "metadata": {},
   "outputs": [],
   "source": [
    "#5.4 Operadores logicos\n",
    "#Se tiene: and, or, not\n",
    "numero1 = 5\n",
    "numero2 = 6\n",
    "numero3 = 7\n",
    "numero4 = 8"
   ]
  },
  {
   "cell_type": "code",
   "execution_count": 24,
   "id": "2507ca25",
   "metadata": {},
   "outputs": [
    {
     "data": {
      "text/plain": [
       "True"
      ]
     },
     "execution_count": 24,
     "metadata": {},
     "output_type": "execute_result"
    }
   ],
   "source": [
    "numero1 < numero2"
   ]
  },
  {
   "cell_type": "code",
   "execution_count": 25,
   "id": "7d9a2b14",
   "metadata": {},
   "outputs": [
    {
     "data": {
      "text/plain": [
       "False"
      ]
     },
     "execution_count": 25,
     "metadata": {},
     "output_type": "execute_result"
    }
   ],
   "source": [
    "#El not invierte el resultado\n",
    "not(numero1<numero2)"
   ]
  },
  {
   "cell_type": "code",
   "execution_count": 26,
   "id": "20a8b4a7",
   "metadata": {},
   "outputs": [
    {
     "data": {
      "text/plain": [
       "True"
      ]
     },
     "execution_count": 26,
     "metadata": {},
     "output_type": "execute_result"
    }
   ],
   "source": [
    "numero1<numero2 and numero3<numero4"
   ]
  },
  {
   "cell_type": "code",
   "execution_count": 27,
   "id": "3ae7fb38",
   "metadata": {},
   "outputs": [
    {
     "data": {
      "text/plain": [
       "True"
      ]
     },
     "execution_count": 27,
     "metadata": {},
     "output_type": "execute_result"
    }
   ],
   "source": [
    "#Tambien puedes utilizar parentesis para ordenar tu operacion\n",
    "(numero1<numero2 and numero3<numero4) or (numero3>numero4)"
   ]
  },
  {
   "cell_type": "code",
   "execution_count": 28,
   "id": "d20befb2",
   "metadata": {},
   "outputs": [],
   "source": [
    "#5.5 Operadores de Pertenencia\n",
    "#Se tiene: in, not in\n",
    "#Miremos un ejemplo\n",
    "\n",
    "aula=[\"Juan\", \"Daniel\", \"Ruben\"]\n",
    "alumno1 = \"Diego\"\n",
    "alumno2 = \"Juan\""
   ]
  },
  {
   "cell_type": "code",
   "execution_count": 29,
   "id": "961e64b9",
   "metadata": {},
   "outputs": [
    {
     "data": {
      "text/plain": [
       "False"
      ]
     },
     "execution_count": 29,
     "metadata": {},
     "output_type": "execute_result"
    }
   ],
   "source": [
    "#Diego esta en aula?\n",
    "alumno1 in aula"
   ]
  },
  {
   "cell_type": "code",
   "execution_count": 30,
   "id": "7aa15c70",
   "metadata": {},
   "outputs": [
    {
     "data": {
      "text/plain": [
       "True"
      ]
     },
     "execution_count": 30,
     "metadata": {},
     "output_type": "execute_result"
    }
   ],
   "source": [
    "#Juan esta en aula?\n",
    "alumno2 in aula"
   ]
  },
  {
   "cell_type": "code",
   "execution_count": 31,
   "id": "2d614050",
   "metadata": {},
   "outputs": [
    {
     "data": {
      "text/plain": [
       "True"
      ]
     },
     "execution_count": 31,
     "metadata": {},
     "output_type": "execute_result"
    }
   ],
   "source": [
    "#Diego no esta en aula?\n",
    "alumno1 not in aula"
   ]
  },
  {
   "cell_type": "code",
   "execution_count": 32,
   "id": "4505cb09",
   "metadata": {},
   "outputs": [
    {
     "data": {
      "text/plain": [
       "False"
      ]
     },
     "execution_count": 32,
     "metadata": {},
     "output_type": "execute_result"
    }
   ],
   "source": [
    "#Juan no esta en aula?\n",
    "alumno2 not in aula"
   ]
  },
  {
   "cell_type": "code",
   "execution_count": 33,
   "id": "95985d59",
   "metadata": {},
   "outputs": [],
   "source": [
    "#5.6 Operadores de identidad\n",
    "#Se tiene: is, is not"
   ]
  },
  {
   "cell_type": "code",
   "execution_count": 34,
   "id": "ac3b8e48",
   "metadata": {},
   "outputs": [],
   "source": [
    "aula1 = [\"Juan\", \"Daniel\", \"Ruben\"]\n",
    "aula2 = [\"Juan\", \"Daniel\", \"Ruben\"]\n",
    "#A continuacion vamos a indicar que aula2 va a compartir el mismo objeto que aula1\n",
    "aula3 = aula1"
   ]
  },
  {
   "cell_type": "code",
   "execution_count": 35,
   "id": "5d78135e",
   "metadata": {},
   "outputs": [
    {
     "data": {
      "text/plain": [
       "True"
      ]
     },
     "execution_count": 35,
     "metadata": {},
     "output_type": "execute_result"
    }
   ],
   "source": [
    "#¿aula3 comparte el mismo objeto que aula1 ?\n",
    "aula3 is aula1"
   ]
  },
  {
   "cell_type": "code",
   "execution_count": 36,
   "id": "414bcf65",
   "metadata": {},
   "outputs": [
    {
     "data": {
      "text/plain": [
       "False"
      ]
     },
     "execution_count": 36,
     "metadata": {},
     "output_type": "execute_result"
    }
   ],
   "source": [
    "#¿aula3 comparte el mismo objeto que aula2 ?\n",
    "aula3 is aula2"
   ]
  },
  {
   "cell_type": "code",
   "execution_count": 37,
   "id": "a359c0d8",
   "metadata": {},
   "outputs": [
    {
     "data": {
      "text/plain": [
       "False"
      ]
     },
     "execution_count": 37,
     "metadata": {},
     "output_type": "execute_result"
    }
   ],
   "source": [
    "#aula2 comparte el mismo objeto que aula1 ?\n",
    "aula2 is aula1"
   ]
  },
  {
   "cell_type": "code",
   "execution_count": 38,
   "id": "eadf4e8d",
   "metadata": {},
   "outputs": [],
   "source": [
    "aula1.append(\"Diego\")"
   ]
  },
  {
   "cell_type": "code",
   "execution_count": 39,
   "id": "a2be1a8b",
   "metadata": {},
   "outputs": [
    {
     "name": "stdout",
     "output_type": "stream",
     "text": [
      "['Juan', 'Daniel', 'Ruben', 'Diego']\n"
     ]
    }
   ],
   "source": [
    "#Al imprimir los elementos de la lista aula1 se observa\n",
    "print(aula1)"
   ]
  },
  {
   "cell_type": "code",
   "execution_count": 40,
   "id": "aaefaac2",
   "metadata": {},
   "outputs": [
    {
     "name": "stdout",
     "output_type": "stream",
     "text": [
      "['Juan', 'Daniel', 'Ruben', 'Diego']\n"
     ]
    }
   ],
   "source": [
    "#Al imprimir los elementos de la lista aula3 se observa\n",
    "print(aula3)"
   ]
  },
  {
   "cell_type": "code",
   "execution_count": 41,
   "id": "88d01f42",
   "metadata": {},
   "outputs": [
    {
     "name": "stdout",
     "output_type": "stream",
     "text": [
      "['Juan', 'Daniel', 'Ruben']\n"
     ]
    }
   ],
   "source": [
    "#Al imprimir los elementos de la lista aula2 se observa\n",
    "print(aula2)"
   ]
  },
  {
   "cell_type": "code",
   "execution_count": null,
   "id": "8acab6dc",
   "metadata": {},
   "outputs": [],
   "source": []
  }
 ],
 "metadata": {
  "kernelspec": {
   "display_name": "Python 3 (ipykernel)",
   "language": "python",
   "name": "python3"
  },
  "language_info": {
   "codemirror_mode": {
    "name": "ipython",
    "version": 3
   },
   "file_extension": ".py",
   "mimetype": "text/x-python",
   "name": "python",
   "nbconvert_exporter": "python",
   "pygments_lexer": "ipython3",
   "version": "3.9.12"
  }
 },
 "nbformat": 4,
 "nbformat_minor": 5
}
