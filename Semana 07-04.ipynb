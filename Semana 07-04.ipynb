{
 "cells": [
  {
   "cell_type": "markdown",
   "id": "703e7bb4",
   "metadata": {},
   "source": [
    "# Semana 07\n",
    "Carlos Julian Gómez Morales"
   ]
  },
  {
   "cell_type": "raw",
   "id": "c25fec36",
   "metadata": {},
   "source": [
    "Temas:\n",
    "    1. Números\n",
    "    2. Variables\n",
    "    3. Manejo de Cadenas\n",
    "    4. Ingreso de Cadenas\n",
    "    5. Operadores"
   ]
  },
  {
   "cell_type": "raw",
   "id": "83f39aa0",
   "metadata": {},
   "source": [
    "4. Ingreso de Cadenas"
   ]
  },
  {
   "cell_type": "code",
   "execution_count": 2,
   "id": "b881d648",
   "metadata": {},
   "outputs": [
    {
     "name": "stdout",
     "output_type": "stream",
     "text": [
      "Cual es tu nombre?\n",
      "Carlos\n",
      "hola Carlos\n"
     ]
    }
   ],
   "source": [
    "#Funcion input()\n",
    "print(\"Cual es tu nombre?\")\n",
    "nombre = input()\n",
    "print(\"hola \" + nombre)"
   ]
  },
  {
   "cell_type": "code",
   "execution_count": 3,
   "id": "e0652db4",
   "metadata": {},
   "outputs": [
    {
     "name": "stdout",
     "output_type": "stream",
     "text": [
      "Numero 1: \n",
      "4\n",
      "Numero 2: \n",
      "5\n",
      "El resultado es 9\n"
     ]
    }
   ],
   "source": [
    "#Cuando ingresa un valor por teclado lo hace como cadena\n",
    "print(\"Numero 1: \")\n",
    "numero1 = input()\n",
    "print(\"Numero 2: \")\n",
    "numero2 = input()\n",
    "numero3= int(numero1) + int(numero2)\n",
    "print(f\"El resultado es {numero3}\")"
   ]
  }
 ],
 "metadata": {
  "kernelspec": {
   "display_name": "Python 3 (ipykernel)",
   "language": "python",
   "name": "python3"
  },
  "language_info": {
   "codemirror_mode": {
    "name": "ipython",
    "version": 3
   },
   "file_extension": ".py",
   "mimetype": "text/x-python",
   "name": "python",
   "nbconvert_exporter": "python",
   "pygments_lexer": "ipython3",
   "version": "3.9.12"
  }
 },
 "nbformat": 4,
 "nbformat_minor": 5
}
